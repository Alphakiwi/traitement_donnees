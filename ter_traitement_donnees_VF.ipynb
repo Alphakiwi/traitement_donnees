{
 "cells": [
  {
   "cell_type": "markdown",
   "metadata": {},
   "source": [
    "# Traitement des données pour créer les corpus"
   ]
  },
  {
   "cell_type": "code",
   "execution_count": 212,
   "metadata": {
    "collapsed": true
   },
   "outputs": [],
   "source": [
    "import os\n",
    "import re\n",
    "import collections"
   ]
  },
  {
   "cell_type": "code",
   "execution_count": 213,
   "metadata": {
    "collapsed": true
   },
   "outputs": [],
   "source": [
    "def countTxt(cheminDossier):\n",
    "    '''compte le nombre de fichier txt dans un dossier'''\n",
    "    count = 0\n",
    "    for dossier, sous_dossiers, fichiers in os.walk(cheminDossier):\n",
    "        for fichier in fichiers:\n",
    "            if fichier.endswith('.txt'):\n",
    "                count += 1\n",
    "    return count"
   ]
  },
  {
   "cell_type": "code",
   "execution_count": 491,
   "metadata": {},
   "outputs": [
    {
     "data": {
      "text/plain": [
       "1823"
      ]
     },
     "execution_count": 491,
     "metadata": {},
     "output_type": "execute_result"
    }
   ],
   "source": [
    "countTxt(\"behavproc\")"
   ]
  },
  {
   "cell_type": "code",
   "execution_count": 242,
   "metadata": {
    "collapsed": true
   },
   "outputs": [],
   "source": [
    "\n",
    "def filterTxt(cheminDossier,focusWords, isContained = True ):\n",
    "    '''si isContained vaut True la fonction supprime tous les fichier txt dun dossier \n",
    "    si il contient un des mots de focusWords\n",
    "    si isContained vaut false la fonction supprime tous les fichiers txt d'un dossier \n",
    "    si il ne contient pas au moins un mot de focusWords'''\n",
    "    count = 0\n",
    "    \n",
    "    for dossier, sous_dossiers, fichiers in os.walk(cheminDossier):\n",
    "        for fichier in fichiers:\n",
    "            remove = True\n",
    "            if fichier.endswith('.txt'):\n",
    "\n",
    "                with open(os.path.join(dossier, fichier)) as f:\n",
    "                    contents = f.read()\n",
    "                                   \n",
    "                if isContained :\n",
    "                    for word in focusWords :\n",
    "                        output = re.search(word, contents)  \n",
    "                        if output != None :\n",
    "                            count +=1\n",
    "                            os.remove(os.path.join(dossier, fichier))\n",
    "                            break\n",
    "                else :\n",
    "                    for word in focusWords :\n",
    "                        output = re.search(word, contents)  \n",
    "                        if output != None :\n",
    "                            remove = False\n",
    "                    if remove  :\n",
    "                        count +=1\n",
    "                        os.remove(os.path.join(dossier, fichier))\n",
    "    print(\"nombre de fichier supprimé : \" + str(count) + \" !\")"
   ]
  },
  {
   "cell_type": "code",
   "execution_count": 233,
   "metadata": {},
   "outputs": [
    {
     "name": "stdout",
     "output_type": "stream",
     "text": [
      "nombre de fichier supprimé : 1180 !\n"
     ]
    }
   ],
   "source": [
    "filterTxt(\"behavproc\", [r'association',r'Association',r'prediction',r'Prediction'], isContained = False)"
   ]
  },
  {
   "cell_type": "code",
   "execution_count": 243,
   "metadata": {},
   "outputs": [
    {
     "name": "stdout",
     "output_type": "stream",
     "text": [
      "nombre de fichier supprimé : 56 !\n"
     ]
    }
   ],
   "source": [
    "filterTxt(\"behavproc\", [r'Announcement',r'Author Index',r'Erratum',r'Editorial Board'])"
   ]
  },
  {
   "cell_type": "code",
   "execution_count": 266,
   "metadata": {
    "collapsed": true
   },
   "outputs": [],
   "source": [
    "\n",
    "\n",
    "def sepReference (chemin) :\n",
    "    '''sépare les références du contenu de tout les fichier txt\n",
    "    appartenant à un dossier. Créer les dossiers et les nouveaux fichiers'''\n",
    "   \n",
    "    text = \"ter_text/\" + chemin + \"/\"\n",
    "    reference =  \"ter_reference/\" + chemin + \"/\"\n",
    "    listRef = [r'References',r'REFERENCES']\n",
    "    haveReference = False\n",
    "    \n",
    "    if not os.path.exists(\"ter_text/\"):\n",
    "        os.makedirs(\"ter_text/\")\n",
    "        \n",
    "    if not os.path.exists(\"ter_reference/\"):\n",
    "        os.makedirs(\"ter_reference/\")\n",
    "    \n",
    "    if not os.path.exists(text):\n",
    "        os.makedirs(text)\n",
    "        \n",
    "    if not os.path.exists(reference):\n",
    "        os.makedirs(reference)\n",
    "    \n",
    "    for dossier, sous_dossiers, fichiers in os.walk(chemin):\n",
    "        for fichier in fichiers:\n",
    "            if fichier.endswith('.txt'):\n",
    "\n",
    "                with open(os.path.join(dossier, fichier)) as f:\n",
    "                    contents = f.read()\n",
    "                \n",
    "                for ref in listRef :\n",
    "\n",
    "                    output = re.search(ref, contents) \n",
    "                    if output:\n",
    "                        haveReference = output.group(0)\n",
    "\n",
    "                if haveReference != False :\n",
    "                    output = re.split(haveReference, contents)\n",
    "\n",
    "                    output1 = \" \".join(output[:-1]);\n",
    "\n",
    "                    output2 = output[-1]\n",
    "\n",
    "\n",
    "                    if(len(output1)>len(output2)):\n",
    "                        with open(text + fichier[:-4] + '_text.txt', 'w') as o1:\n",
    "                            o1.write(output1)\n",
    "\n",
    "                        with open(reference + fichier[:-4] + '_reference.txt', 'w') as o2:\n",
    "                            o2.write(output2)\n",
    "                    else :\n",
    "                        with open(text + fichier[:-4] + '_text.txt', 'w') as o3:\n",
    "                            o3.write(contents)\n",
    "                else :\n",
    "                    with open(text + fichier[:-4] + '_text.txt', 'w') as o3:\n",
    "                        o3.write(contents)\n",
    "\n",
    "\n"
   ]
  },
  {
   "cell_type": "code",
   "execution_count": 496,
   "metadata": {
    "collapsed": true
   },
   "outputs": [],
   "source": [
    "sepReference(\"behavproc\",\"behav/\")\n"
   ]
  },
  {
   "cell_type": "code",
   "execution_count": 497,
   "metadata": {},
   "outputs": [
    {
     "data": {
      "text/plain": [
       "1404"
      ]
     },
     "execution_count": 497,
     "metadata": {},
     "output_type": "execute_result"
    }
   ],
   "source": [
    "countTxt(\"cogniscience\")"
   ]
  },
  {
   "cell_type": "code",
   "execution_count": 498,
   "metadata": {},
   "outputs": [
    {
     "name": "stdout",
     "output_type": "stream",
     "text": [
      "nombre de fichier supprimé : 428 !\n"
     ]
    }
   ],
   "source": [
    "filterTxt(\"cogniscience\", [r'association',r'Association',r'prediction',r'Prediction'], isContained = False)"
   ]
  },
  {
   "cell_type": "code",
   "execution_count": 499,
   "metadata": {},
   "outputs": [
    {
     "name": "stdout",
     "output_type": "stream",
     "text": [
      "nombre de fichier supprimé : 10 !\n"
     ]
    }
   ],
   "source": [
    "filterTxt(\"cogniscience\", [r'Announcement',r'Author Index',r'Erratum',r'Editorial Board'])"
   ]
  },
  {
   "cell_type": "code",
   "execution_count": 500,
   "metadata": {},
   "outputs": [
    {
     "data": {
      "text/plain": [
       "966"
      ]
     },
     "execution_count": 500,
     "metadata": {},
     "output_type": "execute_result"
    }
   ],
   "source": [
    "countTxt(\"cogniscience\")"
   ]
  },
  {
   "cell_type": "code",
   "execution_count": 501,
   "metadata": {
    "collapsed": true
   },
   "outputs": [],
   "source": [
    " sepReference(\"cogniscience\", \"cogniscience/\")"
   ]
  },
  {
   "cell_type": "code",
   "execution_count": 1,
   "metadata": {},
   "outputs": [
    {
     "data": {
      "text/plain": [
       "606"
      ]
     },
     "execution_count": 1,
     "metadata": {},
     "output_type": "execute_result"
    }
   ],
   "source": [
    "1572-966"
   ]
  },
  {
   "cell_type": "code",
   "execution_count": 502,
   "metadata": {},
   "outputs": [
    {
     "data": {
      "text/plain": [
       "1572"
      ]
     },
     "execution_count": 502,
     "metadata": {},
     "output_type": "execute_result"
    }
   ],
   "source": [
    "countTxt(\"ter_text\")"
   ]
  },
  {
   "cell_type": "code",
   "execution_count": 503,
   "metadata": {},
   "outputs": [
    {
     "data": {
      "text/plain": [
       "1465"
      ]
     },
     "execution_count": 503,
     "metadata": {},
     "output_type": "execute_result"
    }
   ],
   "source": [
    "countTxt(\"ter_reference\")"
   ]
  },
  {
   "cell_type": "code",
   "execution_count": 246,
   "metadata": {
    "collapsed": true
   },
   "outputs": [],
   "source": [
    "def deleteAcknowledgement(chemin) :\n",
    "    count = 0\n",
    "    haveAck = False \n",
    "    for dossier, sous_dossiers, fichiers in os.walk(chemin):\n",
    "        for fichier in fichiers:\n",
    "            if fichier.endswith('.txt'):\n",
    "                \n",
    "                \n",
    "                listAck = [r'Acknowledgements',r'ACKNOWLEDGEMENTS',r'Acknowledgments',r'ACKNOWLEDGMENTS',r'Acknowledgement',r'ACKNOWLEDGEMENT',r'Acknowledgment',r'ACKNOWLEDGMENT']\n",
    "\n",
    "                with open(os.path.join(dossier, fichier)) as f:\n",
    "                    contents = f.read()\n",
    "                \n",
    "                for ack in listAck :\n",
    "\n",
    "                    output = re.search(ack, contents) \n",
    "                    if output:\n",
    "                        haveAck = output.group(0)\n",
    "                        \n",
    "\n",
    "                if haveAck :\n",
    "                    output = re.split(haveAck, contents)\n",
    "\n",
    "                    output1 = \" \".join(output[:-1]);\n",
    "\n",
    "                    output2 = output[-1]\n",
    "\n",
    "\n",
    "                    if(len(output1)>len(output2)):\n",
    "                        with open(os.path.join(dossier, fichier), 'w') as o1:\n",
    "                            o1.write(output1)\n",
    "                            count +=1\n",
    "    print(\"dossier modifié : \" + str(count))\n",
    "\n",
    "\n",
    "\n",
    "\n",
    "\n",
    "\n",
    "\n",
    "    "
   ]
  },
  {
   "cell_type": "code",
   "execution_count": 201,
   "metadata": {},
   "outputs": [
    {
     "name": "stdout",
     "output_type": "stream",
     "text": [
      "dossier modifié : 1\n"
     ]
    }
   ],
   "source": [
    "deleteAcknowledgement(\"test_ack\")"
   ]
  },
  {
   "cell_type": "code",
   "execution_count": 202,
   "metadata": {},
   "outputs": [
    {
     "data": {
      "text/plain": [
       "3"
      ]
     },
     "execution_count": 202,
     "metadata": {},
     "output_type": "execute_result"
    }
   ],
   "source": [
    "countTxt(\"test_ack\")"
   ]
  },
  {
   "cell_type": "code",
   "execution_count": 217,
   "metadata": {
    "collapsed": true
   },
   "outputs": [],
   "source": [
    "def deleteNumber(chemin) :\n",
    "    count = 0\n",
    "    for dossier, sous_dossiers, fichiers in os.walk(chemin):\n",
    "        for fichier in fichiers:\n",
    "            finalcontent = \"\"\n",
    "            if fichier.endswith('.txt'):\n",
    "                \n",
    "                with open(os.path.join(dossier, fichier)) as f:\n",
    "                    contents = f.read()\n",
    "                \n",
    "                for lettre in contents :\n",
    "                    if lettre.isdigit() :\n",
    "                        count +=1\n",
    "                    else :\n",
    "                        finalcontent += lettre\n",
    "                \n",
    "                with open(os.path.join(dossier, fichier), 'w') as o1:\n",
    "                            o1.write(finalcontent)            \n",
    "                \n",
    "                \n",
    "                            \n",
    "    print(\"chiffre enlevé : \" + str(count))\n",
    "\n",
    "\n",
    "\n"
   ]
  },
  {
   "cell_type": "code",
   "execution_count": 203,
   "metadata": {},
   "outputs": [
    {
     "name": "stdout",
     "output_type": "stream",
     "text": [
      "chiffre enlevé : 1525\n"
     ]
    }
   ],
   "source": [
    "deleteNumber(\"test_ack\")"
   ]
  },
  {
   "cell_type": "code",
   "execution_count": 226,
   "metadata": {
    "collapsed": true
   },
   "outputs": [],
   "source": [
    "def deleteFigureTable(chemin, delete = \"Figure\") :\n",
    "    count = 0\n",
    "    haveFig = False \n",
    "    for dossier, sous_dossiers, fichiers in os.walk(chemin):\n",
    "        for fichier in fichiers:\n",
    "            finalcontent = \"\"\n",
    "            if fichier.endswith('.txt'):\n",
    "                \n",
    "                if delete == \"Table\" :\n",
    "                    listFig = [r'Table',r'TABLE']\n",
    "                else :\n",
    "                    listFig = [r'Fig.',r'FIG.',r'Figs']\n",
    "\n",
    "                with open(os.path.join(dossier, fichier)) as f:\n",
    "                    contents = f.read()\n",
    "                \n",
    "                for fig in listFig :\n",
    "\n",
    "                    output = re.search(fig, contents) \n",
    "                    if output:\n",
    "                        haveFig = output.group(0)\n",
    "                        \n",
    "\n",
    "                if haveFig :\n",
    "                    output = contents.split(\"\\n\\n\")\n",
    "                    \n",
    "                    for paragraphe in output :\n",
    "                        mot = paragraphe.split(\" \")\n",
    "                        if mot[0]==haveFig :\n",
    "                            count +=1\n",
    "                        else :\n",
    "                            finalcontent += paragraphe + \"\\n\\n\"\n",
    "                    \n",
    "                    with open(os.path.join(dossier, fichier), 'w') as o1:\n",
    "                            o1.write(finalcontent) \n",
    "                    \n",
    "\n",
    "    print(\"Paragraphe supprimé : \" + str(count))\n",
    "\n"
   ]
  },
  {
   "cell_type": "code",
   "execution_count": 206,
   "metadata": {},
   "outputs": [
    {
     "name": "stdout",
     "output_type": "stream",
     "text": [
      "Paragraphe supprimé : 0\n"
     ]
    }
   ],
   "source": [
    "deleteFigureTable(\"test_ack\",  delete = \"Table\")"
   ]
  },
  {
   "cell_type": "code",
   "execution_count": 208,
   "metadata": {},
   "outputs": [
    {
     "name": "stdout",
     "output_type": "stream",
     "text": [
      "Paragraphe supprimé : 0\n"
     ]
    }
   ],
   "source": [
    "deleteFigureTable(\"test_ack\")"
   ]
  },
  {
   "cell_type": "code",
   "execution_count": 278,
   "metadata": {
    "collapsed": true
   },
   "outputs": [],
   "source": [
    "def deleteEnteteBasDePage(chemin) :\n",
    "    count = 0\n",
    "    for dossier, sous_dossiers, fichiers in os.walk(chemin):\n",
    "        for fichier in fichiers:\n",
    "            finalcontent = \"\"\n",
    "\n",
    "            if fichier.endswith('.txt'):\n",
    "                \n",
    "                with open(os.path.join(dossier, fichier)) as f:\n",
    "                    contents = f.read()\n",
    "                \n",
    "                output = contents.split(\"\\n\\n\")\n",
    "                                \n",
    "                counter=collections.Counter(output)\n",
    "                \n",
    "                listToDelete = []\n",
    "                for freq in counter.most_common(15) :\n",
    "                    if freq[1] > 3 :\n",
    "                        listToDelete.append(freq[0])\n",
    "            \n",
    "                \n",
    "                for paragraphe in output :\n",
    "                    if paragraphe in listToDelete :\n",
    "                        count += 1\n",
    "                    else :\n",
    "                        finalcontent += paragraphe + \"\\n\\n\"\n",
    "                        \n",
    "\n",
    "\n",
    "                with open(os.path.join(dossier, fichier), 'w') as o1:\n",
    "                        o1.write(finalcontent) \n",
    "\n",
    "\n",
    "    print(\"Paragraphe supprimé : \" + str(count))\n"
   ]
  },
  {
   "cell_type": "code",
   "execution_count": 204,
   "metadata": {},
   "outputs": [
    {
     "name": "stdout",
     "output_type": "stream",
     "text": [
      "['', '.', 'DETECTION', 'OF COGNITIVE', 'STRUCTURE']\n",
      "\n",
      "\n",
      "\n",
      "['', 'R. E. Watson-Jones, J. T. A. Busch, C. H. Legare / Topics in Cognitive Science  ()']\n",
      "\n",
      "\n",
      "\n",
      "['', 'H. Brighton, G. Gigerenzer ⁄ Topics in Cognitive Science  ()']\n",
      "\n",
      "\n",
      "\n",
      "Paragraphe supprimé : 103\n"
     ]
    }
   ],
   "source": [
    "deleteEnteteBasDePage(\"test_ack\")"
   ]
  },
  {
   "cell_type": "code",
   "execution_count": 269,
   "metadata": {
    "collapsed": true
   },
   "outputs": [],
   "source": [
    "def traitementTxt(dossier) :\n",
    "    filterTxt(dossier, [r'Announcement',r'Author Index',r'Erratum',r'Editorial Board'])\n",
    "    sepReference(dossier)\n",
    "    chemin = \"ter_text/\"+dossier\n",
    "    deleteAcknowledgement(chemin)\n",
    "    deleteNumber(chemin)\n",
    "    deleteFigureTable(chemin)\n",
    "    deleteFigureTable(chemin,delete = \"Table\")\n",
    "    deleteEnteteBasDePage(chemin)\n",
    "\n"
   ]
  },
  {
   "cell_type": "code",
   "execution_count": 277,
   "metadata": {},
   "outputs": [
    {
     "name": "stdout",
     "output_type": "stream",
     "text": [
      "nombre de fichier supprimé : 56 !\n",
      "dossier modifié : 887\n",
      "chiffre enlevé : 1073772\n",
      "Paragraphe supprimé : 2442\n",
      "Paragraphe supprimé : 1330\n",
      "Paragraphe supprimé : 138846\n",
      "nombre de fichier supprimé : 48 !\n",
      "dossier modifié : 509\n",
      "chiffre enlevé : 880892\n",
      "Paragraphe supprimé : 1261\n",
      "Paragraphe supprimé : 918\n",
      "Paragraphe supprimé : 97467\n"
     ]
    }
   ],
   "source": [
    "traitementTxt(\"behavproc\")\n",
    "traitementTxt(\"cogniscience\")"
   ]
  },
  {
   "cell_type": "code",
   "execution_count": null,
   "metadata": {
    "collapsed": true
   },
   "outputs": [],
   "source": []
  }
 ],
 "metadata": {
  "kernelspec": {
   "display_name": "Python 3",
   "language": "python",
   "name": "python3"
  },
  "language_info": {
   "codemirror_mode": {
    "name": "ipython",
    "version": 3
   },
   "file_extension": ".py",
   "mimetype": "text/x-python",
   "name": "python",
   "nbconvert_exporter": "python",
   "pygments_lexer": "ipython3",
   "version": "3.6.1"
  }
 },
 "nbformat": 4,
 "nbformat_minor": 2
}
